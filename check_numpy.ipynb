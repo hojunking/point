{
 "cells": [
  {
   "cell_type": "code",
   "execution_count": 3,
   "metadata": {},
   "outputs": [
    {
     "name": "stdout",
     "output_type": "stream",
     "text": [
      "Unique values and counts:\n",
      "Value 0: 77247 times\n",
      "Value 1: 58501 times\n",
      "Value 2: 9397 times\n",
      "Value 3: 276 times\n",
      "Value 4: 34117 times\n",
      "Value 5: 368 times\n",
      "Value 6: 17630 times\n",
      "Value 7: 10159 times\n",
      "Value 8: 11618 times\n",
      "Value 9: 140 times\n",
      "Value 10: 4663 times\n",
      "Value 11: 4464 times\n",
      "Value 12: 1045 times\n",
      "Value 13: 2 times\n",
      "Value 14: 571 times\n",
      "Value 17: 226 times\n",
      "Value 19: 6936 times\n"
     ]
    }
   ],
   "source": [
    "import numpy as np\n",
    "\n",
    "file_path = \"/home/knuvi/Desktop/song/point/exp/scannet/scannet-samples100-tf_b-scannet-fixs/result/scene0011_00_pred.npy\"\n",
    "\n",
    "arr = np.load(file_path)\n",
    "\n",
    "unique_values, counts = np.unique(arr, return_counts=True)\n",
    "print(\"Unique values and counts:\")\n",
    "for val, count in zip(unique_values, counts):\n",
    "    print(f\"Value {val}: {count} times\")\n"
   ]
  },
  {
   "cell_type": "code",
   "execution_count": 4,
   "metadata": {},
   "outputs": [
    {
     "name": "stdout",
     "output_type": "stream",
     "text": [
      "Unique values and counts:\n",
      "Value -1: 42479 times\n",
      "Value 0: 36885 times\n",
      "Value 1: 54068 times\n",
      "Value 2: 11854 times\n",
      "Value 4: 36169 times\n",
      "Value 6: 17249 times\n",
      "Value 7: 7364 times\n",
      "Value 8: 10871 times\n",
      "Value 11: 5743 times\n",
      "Value 14: 11044 times\n",
      "Value 17: 1075 times\n",
      "Value 19: 2559 times\n"
     ]
    }
   ],
   "source": [
    "import numpy as np\n",
    "\n",
    "file_path = \"/home/knuvi/Desktop/song/point/data/scannet/val/scene0011_00/segment20.npy\"\n",
    "\n",
    "arr = np.load(file_path)\n",
    "\n",
    "unique_values, counts = np.unique(arr, return_counts=True)\n",
    "print(\"Unique values and counts:\")\n",
    "for val, count in zip(unique_values, counts):\n",
    "    print(f\"Value {val}: {count} times\")\n",
    "\n",
    "\n"
   ]
  },
  {
   "cell_type": "code",
   "execution_count": null,
   "metadata": {},
   "outputs": [],
   "source": []
  }
 ],
 "metadata": {
  "kernelspec": {
   "display_name": "pt",
   "language": "python",
   "name": "python3"
  },
  "language_info": {
   "codemirror_mode": {
    "name": "ipython",
    "version": 3
   },
   "file_extension": ".py",
   "mimetype": "text/x-python",
   "name": "python",
   "nbconvert_exporter": "python",
   "pygments_lexer": "ipython3",
   "version": "3.8.19"
  }
 },
 "nbformat": 4,
 "nbformat_minor": 2
}
